{
 "cells": [
  {
   "cell_type": "code",
   "execution_count": 32,
   "id": "consistent-booking",
   "metadata": {},
   "outputs": [
    {
     "name": "stdout",
     "output_type": "stream",
     "text": [
      "0.16.4\n",
      "{'qiskit-terra': '0.16.4', 'qiskit-aer': '0.7.4', 'qiskit-ignis': '0.5.2', 'qiskit-ibmq-provider': '0.11.1', 'qiskit-aqua': '0.8.2', 'qiskit': '0.23.5'}\n"
     ]
    }
   ],
   "source": [
    "from qiskit import *\n",
    "from qiskit.tools.visualization import plot_histogram\n",
    "from qiskit.tools.monitor import job_monitor\n",
    "print(qiskit.__version__)\n",
    "print(qiskit.__qiskit_version__)"
   ]
  },
  {
   "cell_type": "markdown",
   "id": "vulnerable-compiler",
   "metadata": {},
   "source": [
    "## Demonstrate how to create, measure a basic quantum circuit"
   ]
  },
  {
   "cell_type": "code",
   "execution_count": 16,
   "id": "hawaiian-creek",
   "metadata": {},
   "outputs": [
    {
     "data": {
      "image/png": "[encoded data removed]",
      "text/plain": [
       "<Figure size 206.852x204.68 with 1 Axes>"
      ]
     },
     "execution_count": 16,
     "metadata": {},
     "output_type": "execute_result"
    }
   ],
   "source": [
    "### Create Bell State\n",
    "bell = QuantumCircuit(2, 2, name='Bell State')\n",
    "bell.h(0)\n",
    "bell.cx(0,1)\n",
    "bell.draw(output='mpl')"
   ]
  },
  {
   "cell_type": "code",
   "execution_count": 17,
   "id": "killing-chase",
   "metadata": {},
   "outputs": [
    {
     "data": {
      "image/png": "[encoded data removed]",
      "text/plain": [
       "<Figure size 327.252x204.68 with 1 Axes>"
      ]
     },
     "execution_count": 17,
     "metadata": {},
     "output_type": "execute_result"
    }
   ],
   "source": [
    "### Add measurement\n",
    "bell.measure([0,1],[0,1])\n",
    "bell.draw(output='mpl')"
   ]
  },
  {
   "cell_type": "code",
   "execution_count": 29,
   "id": "minor-intranet",
   "metadata": {},
   "outputs": [],
   "source": [
    "### Connect to quantum computer simulator and measure\n",
    "backend = Aer.get_backend(\"qasm_simulator\")\n",
    "result = execute(bell, backend=backend, shots = 64).result()"
   ]
  },
  {
   "cell_type": "code",
   "execution_count": 30,
   "id": "fleet-freeze",
   "metadata": {},
   "outputs": [
    {
     "name": "stdout",
     "output_type": "stream",
     "text": [
      "{'00': 29, '11': 35}\n"
     ]
    },
    {
     "data": {
      "image/png": "[encoded data removed]",
      "text/plain": [
       "<Figure size 504x360 with 1 Axes>"
      ]
     },
     "execution_count": 30,
     "metadata": {},
     "output_type": "execute_result"
    }
   ],
   "source": [
    "### Visualize results\n",
    "counts = result.get_counts(bell)\n",
    "print(counts)\n",
    "plot_histogram(counts)"
   ]
  },
  {
   "cell_type": "code",
   "execution_count": 15,
   "id": "imperial-triumph",
   "metadata": {},
   "outputs": [
    {
     "data": {
      "image/png": "[encoded data removed]",
      "text/plain": [
       "<Figure size 206.852x204.68 with 1 Axes>"
      ]
     },
     "execution_count": 15,
     "metadata": {},
     "output_type": "execute_result"
    }
   ],
   "source": [
    "### Example of adding Bell State onto a control circuit\n",
    "control = QuantumCircuit(2,2)\n",
    "control.append(bell, [0,1])\n",
    "control.draw(output='mpl')"
   ]
  },
  {
   "cell_type": "markdown",
   "id": "smart-police",
   "metadata": {},
   "source": [
    "## Execute on a real Quantum Computer"
   ]
  },
  {
   "cell_type": "code",
   "execution_count": 26,
   "id": "mighty-dutch",
   "metadata": {},
   "outputs": [
    {
     "name": "stderr",
     "output_type": "stream",
     "text": [
      "/home/kyledmiller/miniconda3/envs/qis/lib/python3.9/site-packages/qiskit/providers/ibmq/ibmqfactory.py:192: UserWarning: Timestamps in IBMQ backend properties, jobs, and job results are all now in local time instead of UTC.\n",
      "  warnings.warn('Timestamps in IBMQ backend properties, jobs, and job results '\n"
     ]
    },
    {
     "data": {
      "text/plain": [
       "<AccountProvider for IBMQ(hub='ibm-q', group='open', project='main')>"
      ]
     },
     "execution_count": 26,
     "metadata": {},
     "output_type": "execute_result"
    }
   ],
   "source": [
    "### Fetch IBM token\n",
    "# IBMQ.save_account('44a66dd506ef42e540395efa67c2b160558f6425abe98aa5900a5747979902e98add88d240bdd52284ef049ad26aeaefe5dfd167760bf50d6b3777f08e3515c2', overwrite=True)\n",
    "IBMQ.load_account()"
   ]
  },
  {
   "cell_type": "code",
   "execution_count": 46,
   "id": "appointed-punch",
   "metadata": {},
   "outputs": [
    {
     "data": {
      "text/plain": [
       "[<IBMQBackend('ibmqx2') from IBMQ(hub='ibm-q', group='open', project='main')>,\n",
       " <IBMQBackend('ibmq_athens') from IBMQ(hub='ibm-q', group='open', project='main')>,\n",
       " <IBMQBackend('ibmq_santiago') from IBMQ(hub='ibm-q', group='open', project='main')>,\n",
       " <IBMQBackend('ibmq_lima') from IBMQ(hub='ibm-q', group='open', project='main')>,\n",
       " <IBMQBackend('ibmq_belem') from IBMQ(hub='ibm-q', group='open', project='main')>,\n",
       " <IBMQBackend('ibmq_quito') from IBMQ(hub='ibm-q', group='open', project='main')>]"
      ]
     },
     "execution_count": 46,
     "metadata": {},
     "output_type": "execute_result"
    }
   ],
   "source": [
    "### View available backends\n",
    "provider = IBMQ.get_provider(group='open')\n",
    "provider.backends(filters=lambda x: x.configuration().n_qubits == 5 and not x.configuration().simulator)"
   ]
  },
  {
   "cell_type": "code",
   "execution_count": 31,
   "id": "quarterly-marks",
   "metadata": {},
   "outputs": [],
   "source": [
    "### Execute on ibmqx2\n",
    "backend = provider.get_backend(\"ibmqx2\")\n",
    "job = execute(bell, backend=backend)"
   ]
  },
  {
   "cell_type": "code",
   "execution_count": 33,
   "id": "welcome-checkout",
   "metadata": {},
   "outputs": [
    {
     "name": "stdout",
     "output_type": "stream",
     "text": [
      "Job Status: job has successfully run\n"
     ]
    }
   ],
   "source": [
    "### Monitor job (realtime)\n",
    "job_monitor(job)"
   ]
  },
  {
   "cell_type": "code",
   "execution_count": 39,
   "id": "great-lexington",
   "metadata": {},
   "outputs": [],
   "source": [
    "### Retrieve finished job\n",
    "old_jobs = backend.jobs(limit=3)\n",
    "# old_job = backend.retrieve_job(\"6030534f75d6a263d5690e9a\") #or use id from IBMQ website/dashboard"
   ]
  },
  {
   "cell_type": "code",
   "execution_count": 41,
   "id": "cross-posting",
   "metadata": {},
   "outputs": [
    {
     "data": {
      "image/png": "[encoded data removed]",
      "text/plain": [
       "<Figure size 504x360 with 1 Axes>"
      ]
     },
     "execution_count": 41,
     "metadata": {},
     "output_type": "execute_result"
    }
   ],
   "source": [
    "plot_histogram(old_job[0].result().get_counts())"
   ]
  },
  {
   "cell_type": "markdown",
   "id": "approximate-heater",
   "metadata": {},
   "source": [
    "## Sorting Backends"
   ]
  },
  {
   "cell_type": "code",
   "execution_count": null,
   "id": "furnished-projection",
   "metadata": {},
   "outputs": [],
   "source": []
  }
 ],
 "metadata": {
  "kernelspec": {
   "display_name": "Python 3",
   "language": "python",
   "name": "python3"
  },
  "language_info": {
   "codemirror_mode": {
    "name": "ipython",
    "version": 3
   },
   "file_extension": ".py",
   "mimetype": "text/x-python",
   "name": "python",
   "nbconvert_exporter": "python",
   "pygments_lexer": "ipython3",
   "version": "3.9.1"
  }
 },
 "nbformat": 4,
 "nbformat_minor": 5
}
