{
 "cells": [
  {
   "cell_type": "code",
   "execution_count": 1,
   "id": "lucky-howard",
   "metadata": {},
   "outputs": [],
   "source": [
    "import numpy as np\n",
    "\n",
    "from qiskit import BasicAer\n",
    "from qiskit.circuit.library import ZZFeatureMap\n",
    "from qiskit.aqua import QuantumInstance, aqua_globals\n",
    "from qiskit.aqua.algorithms import QSVM\n",
    "from qiskit.aqua.components.multiclass_extensions import AllPairs\n",
    "from qiskit.aqua.utils.dataset_helper import get_feature_dimension"
   ]
  },
  {
   "cell_type": "code",
   "execution_count": 2,
   "id": "funded-regular",
   "metadata": {},
   "outputs": [
    {
     "data": {
      "image/png": "[encoded data removed]",
      "text/plain": [
       "<Figure size 432x288 with 1 Axes>"
      ]
     },
     "metadata": {
      "needs_background": "light"
     },
     "output_type": "display_data"
    }
   ],
   "source": [
    "from qiskit.ml.datasets import wine\n",
    "\n",
    "n = 2  # dimension of each data point\n",
    "sample_Total, training_input, test_input, class_labels = wine(training_size=24,\n",
    "                                                              test_size=6, n=n, plot_data=True)\n",
    "temp = [test_input[k] for k in test_input]\n",
    "total_array = np.concatenate(temp)"
   ]
  },
  {
   "cell_type": "code",
   "execution_count": 3,
   "id": "herbal-pound",
   "metadata": {},
   "outputs": [
    {
     "name": "stdout",
     "output_type": "stream",
     "text": [
      "testing_accuracy : 1.0\n",
      "test_success_ratio : 1.0\n",
      "predicted_labels : [0 1 2 2 2 2]\n",
      "predicted_classes : ['A', 'B', 'C', 'C', 'C', 'C']\n"
     ]
    }
   ],
   "source": [
    "aqua_globals.random_seed = 10598\n",
    "\n",
    "backend = BasicAer.get_backend('qasm_simulator')\n",
    "feature_map = ZZFeatureMap(feature_dimension=get_feature_dimension(training_input),\n",
    "                           reps=2, entanglement='linear')\n",
    "svm = QSVM(feature_map, training_input, test_input, total_array,\n",
    "           multiclass_extension=AllPairs())\n",
    "quantum_instance = QuantumInstance(backend, shots=1024,\n",
    "                                   seed_simulator=aqua_globals.random_seed,\n",
    "                                   seed_transpiler=aqua_globals.random_seed)\n",
    "\n",
    "result = svm.run(quantum_instance)\n",
    "for k,v in result.items():\n",
    "    print(f'{k} : {v}')"
   ]
  },
  {
   "cell_type": "code",
   "execution_count": null,
   "id": "imposed-tobacco",
   "metadata": {},
   "outputs": [],
   "source": []
  }
 ],
 "metadata": {
  "kernelspec": {
   "display_name": "Python 3",
   "language": "python",
   "name": "python3"
  },
  "language_info": {
   "codemirror_mode": {
    "name": "ipython",
    "version": 3
   },
   "file_extension": ".py",
   "mimetype": "text/x-python",
   "name": "python",
   "nbconvert_exporter": "python",
   "pygments_lexer": "ipython3",
   "version": "3.8.5"
  }
 },
 "nbformat": 4,
 "nbformat_minor": 5
}
